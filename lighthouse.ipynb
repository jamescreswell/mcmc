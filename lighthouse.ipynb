{
 "cells": [
  {
   "cell_type": "markdown",
   "metadata": {},
   "source": [
    "A lighthouse is somewhere off a piece of straight coastline at a position $\\alpha$ along the shore and a distance $\\beta$ out at sea. It emits a series of short highly collimated flashes at random intervals and hence at random azimuths. These pulses are intercepted on the coast by photo-detectors that record only the fact that a flash has occured, but not the angle from which it came. $N$ flashes have so far been recorded at positions ${x_k}$. Where is the lighthouse?"
   ]
  },
  {
   "cell_type": "markdown",
   "metadata": {},
   "source": [
    "The likelihood of observing a flash at $x_k$ is\n",
    "$$ p(x_k | \\alpha, \\beta) = \\frac{\\beta}{\\pi (\\beta^2 +(x_k - \\alpha)^2)}. $$"
   ]
  },
  {
   "cell_type": "code",
   "execution_count": 16,
   "metadata": {},
   "outputs": [],
   "source": [
    "%matplotlib inline\n",
    "import numpy as np\n",
    "import matplotlib.pyplot as plt\n",
    "import math"
   ]
  },
  {
   "cell_type": "code",
   "execution_count": 67,
   "metadata": {},
   "outputs": [],
   "source": [
    "xk = np.array([5.0, 0.0])\n",
    "\n",
    "def log_prior(theta):\n",
    "    alpha, beta = theta\n",
    "    if alpha < -100 or alpha > 100:\n",
    "        return -np.inf\n",
    "    if beta < 9.9 or beta > 10.1:\n",
    "        return -np.inf\n",
    "    else:\n",
    "        return 1.0\n",
    "\n",
    "def log_likelihood(data, theta):\n",
    "    alpha, beta = theta\n",
    "    return len(data) * math.log(beta) - np.sum(np.log(np.pi * (beta**2 + (data - alpha)**2)))"
   ]
  },
  {
   "cell_type": "code",
   "execution_count": 76,
   "metadata": {},
   "outputs": [],
   "source": [
    "from mcmc import Metropolis\n",
    "\n",
    "x = Metropolis(xk, log_prior, log_likelihood)\n",
    "\n",
    "x.iterate([1.0, 10.0], 10000, 0, 0.01)"
   ]
  },
  {
   "cell_type": "code",
   "execution_count": 77,
   "metadata": {},
   "outputs": [
    {
     "data": {
      "text/plain": [
       "(array([ 159.,  559.,  545.,  562.,  929.,  966.,  669.,  206.,  200.,  206.]),\n",
       " array([ 0.42240754,  0.52827374,  0.63413994,  0.74000614,  0.84587234,\n",
       "         0.95173854,  1.05760474,  1.16347093,  1.26933713,  1.37520333,\n",
       "         1.48106953]),\n",
       " <a list of 10 Patch objects>)"
      ]
     },
     "execution_count": 77,
     "metadata": {},
     "output_type": "execute_result"
    },
    {
     "data": {
      "image/png": "[encoded data removed]",
      "text/plain": [
       "<Figure size 432x288 with 1 Axes>"
      ]
     },
     "metadata": {},
     "output_type": "display_data"
    }
   ],
   "source": [
    "plt.figure()\n",
    "plt.hist(x.chain[:,0][5000:])"
   ]
  },
  {
   "cell_type": "code",
   "execution_count": 79,
   "metadata": {},
   "outputs": [
    {
     "data": {
      "text/plain": [
       "array([[  1.        ,  10.        ],\n",
       "       [  0.99438609,   9.99197075],\n",
       "       [  0.99433015,   9.97762323],\n",
       "       ..., \n",
       "       [  0.77825824,  10.02628207],\n",
       "       [  0.79707556,  10.03669683],\n",
       "       [  0.78455376,  10.04543805]])"
      ]
     },
     "execution_count": 79,
     "metadata": {},
     "output_type": "execute_result"
    }
   ],
   "source": [
    "x.chain"
   ]
  },
  {
   "cell_type": "code",
   "execution_count": null,
   "metadata": {},
   "outputs": [],
   "source": []
  }
 ],
 "metadata": {
  "kernelspec": {
   "display_name": "Python 2",
   "language": "python",
   "name": "python2"
  },
  "language_info": {
   "codemirror_mode": {
    "name": "ipython",
    "version": 2
   },
   "file_extension": ".py",
   "mimetype": "text/x-python",
   "name": "python",
   "nbconvert_exporter": "python",
   "pygments_lexer": "ipython2",
   "version": "2.7.14"
  }
 },
 "nbformat": 4,
 "nbformat_minor": 2
}
